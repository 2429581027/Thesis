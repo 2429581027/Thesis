{
 "cells": [
  {
   "cell_type": "code",
   "execution_count": 1,
   "metadata": {},
   "outputs": [
    {
     "name": "stdout",
     "output_type": "stream",
     "text": [
      "\u001b[H\u001b[2JOnce deleted, variables cannot be recovered. Proceed (y/[n])? n\n",
      "Nothing done.\n"
     ]
    }
   ],
   "source": [
    "%clear\n",
    "%reset"
   ]
  },
  {
   "cell_type": "code",
   "execution_count": 1,
   "metadata": {},
   "outputs": [
    {
     "name": "stdout",
     "output_type": "stream",
     "text": [
      "current working dirctory =  /home/chaotang/文档/Try\n",
      "current log dirctory =  /home/chaotang/文档/Try/log\n"
     ]
    }
   ],
   "source": [
    "import numpy as np\n",
    "import tensorflow as tf\n",
    "import datetime\n",
    "# this code is used to check whether my gradient calculation can be used\n",
    "import os\n",
    "import sys\n",
    "BASE_DIR = os.getcwd()\n",
    "from tensorflow import keras\n",
    "import matplotlib.pyplot as plt\n",
    "\n",
    "from tensorflow.keras.models import Model\n",
    "from tensorflow.keras.layers import Dense,Dropout,Conv2D,MaxPooling2D,Flatten\n",
    "from tensorflow.keras.datasets import mnist\n",
    "from tensorflow.keras.regularizers import l1\n",
    "from tensorflow.keras.optimizers import Adam\n",
    "import copy\n",
    "\n",
    "print('current working dirctory = ',BASE_DIR)\n",
    "LOG_DIR = BASE_DIR + '/log'\n",
    "# 设定了一个log 的路径，方便如何存入和读取模型\n",
    "if not os.path.exists(LOG_DIR): os.mkdir(LOG_DIR)\n",
    "print('current log dirctory = ',LOG_DIR)\n"
   ]
  },
  {
   "cell_type": "markdown",
   "metadata": {},
   "source": [
    "# digit recognition Network"
   ]
  },
  {
   "cell_type": "code",
   "execution_count": 2,
   "metadata": {},
   "outputs": [
    {
     "name": "stdout",
     "output_type": "stream",
     "text": [
      "(60000, 28, 28, 1)\n",
      "(10000, 28, 28, 1)\n",
      "(60000,)\n",
      "(10000,)\n"
     ]
    }
   ],
   "source": [
    "(x_train, y_train), (x_test, y_test) = mnist.load_data()\n",
    "#x_train = np.round(x_train/255)\n",
    "#x_test = np.round(x_test/255)\n",
    "x_train = np.round(x_train)/255\n",
    "x_test = np.round(x_test)/255\n",
    "\n",
    "x_train = x_train.astype('float32')\n",
    "x_test = x_test.astype('float32')\n",
    "\n",
    "x_train = np.reshape(x_train,[60000,28,28,1])\n",
    "x_test = np.reshape(x_test,[10000,28,28,1])\n",
    "\n",
    "print(x_train.shape)\n",
    "print(x_test.shape)\n",
    "print(y_train.shape)\n",
    "print(y_test.shape)"
   ]
  },
  {
   "cell_type": "code",
   "execution_count": 3,
   "metadata": {},
   "outputs": [],
   "source": [
    "# 传统的定义方法\n",
    "def digitNet(x,label):\n",
    "    conv1 = Conv2D(32,(5,5),activation = 'relu',name = 'conv1')(x)\n",
    "    #print('conv1',conv1.shape) #(20, 26, 26, 32)\n",
    "    MP1 = MaxPooling2D(pool_size=(2, 2),name = 'MP1')(conv1)\n",
    "    #print('MP1',MP1.shape) # (20, 13, 13, 32)\n",
    "    conv2 = Conv2D(32,(3,3),activation = 'relu',name = 'conv2')(MP1)\n",
    "    #print('conv2',conv2.shape) # (20, 11, 11, 32)\n",
    "    MP2 = MaxPooling2D(pool_size=(2, 2),name = 'MP2')(conv2)\n",
    "    #print('MP2',MP2.shape) # (20, 5, 5, 32)\n",
    "    # Dp1 =Dropout(rate = 0.2,name = 'Dp1')(MP1)\n",
    "    # go down one more. Add one more conv and one more mp\n",
    "    # leave the dp1\n",
    "    Flat = Flatten()(MP2)\n",
    "    #print('Flat',Flat.shape) # (20, 800)\n",
    "    fc1 = Dense(128,activation = 'relu',name = 'fc1')(Flat)\n",
    "    #out = Dense(10,activation = 'softmax',name = 'out')(fc1)\n",
    "    #print('fc1',fc1.shape) # (20, 128)\n",
    "    #Dp1 =Dropout(rate = 0.3,name = 'Dp1')(fc1)\n",
    "    out = Dense(10,name = 'out')(fc1)\n",
    "    \n",
    "    loss = tf.nn.sparse_softmax_cross_entropy_with_logits(logits=out, labels=label)\n",
    "    return loss, out"
   ]
  },
  {
   "cell_type": "markdown",
   "metadata": {},
   "source": [
    "# Training"
   ]
  },
  {
   "cell_type": "code",
   "execution_count": 9,
   "metadata": {},
   "outputs": [
    {
     "name": "stdout",
     "output_type": "stream",
     "text": [
      "(?, 28, 28, 1)\n",
      "(?,)\n",
      "conv1/kernel:0\n",
      "conv1/bias:0\n",
      "conv2/kernel:0\n",
      "conv2/bias:0\n",
      "fc1/kernel:0\n",
      "fc1/bias:0\n",
      "out/kernel:0\n",
      "out/bias:0\n",
      "this is the  0  epoch\n",
      "this is the  1  epoch\n",
      "this is the  2  epoch\n",
      "this is the  3  epoch\n",
      "this is the  4  epoch\n",
      "this is the  5  epoch\n",
      "this is the  6  epoch\n",
      "this is the  7  epoch\n",
      "this is the  8  epoch\n",
      "this is the  9  epoch\n",
      "networkoutput (20, 10)\n",
      "prediction =  7\n",
      "label =  7\n"
     ]
    }
   ],
   "source": [
    "# difine two placeholder。This is the old fashion tensorflow method\n",
    "# 训练数字识别器，loss function选择了和POINTNER++一样的方式去构建 \n",
    "tf.reset_default_graph()\n",
    "batchsize = 32\n",
    "range_val = int(60000/batchsize)\n",
    "\n",
    "x_pl = tf.placeholder(tf.float32,shape = [None,28,28,1],name = 'x_pl')\n",
    "label_pl = tf.placeholder(tf.int32,shape = [None,],name = 'label_pl')\n",
    "print(x_pl.shape)\n",
    "print(label_pl.shape)\n",
    "\n",
    "loss,output = digitNet(x_pl,label_pl)\n",
    "optimizer = tf.train.AdamOptimizer()\n",
    "train_op = optimizer.minimize(loss)\n",
    "\n",
    "# add summary writers\n",
    "saver = tf.train.Saver()\n",
    "merged = tf.summary.merge_all()\n",
    "\n",
    "for var in tf.trainable_variables():\n",
    "    print(var.name)\n",
    "with tf.Session() as sess:\n",
    "    init = tf.global_variables_initializer()\n",
    "    sess.run(init)\n",
    "    train_writer = tf.summary.FileWriter(LOG_DIR, sess.graph)\n",
    "    for epoch in range(10):\n",
    "        if(epoch % 1 == 0):\n",
    "            print('this is the ',epoch,' epoch')\n",
    "        for i in range(range_val):\n",
    "            batch_index = i\n",
    "            train_i = x_train[batchsize * batch_index:batchsize * (batch_index + 1),:]\n",
    "            label_i = y_train[batchsize * batch_index:batchsize * (batch_index + 1)]\n",
    "            feed = {x_pl:train_i,label_pl:label_i} \n",
    "            my_loss ,_ = sess.run([loss,train_op],feed_dict =feed)\n",
    "            \n",
    "    # save the model\n",
    "    save_path = saver.save(sess,os.path.join(LOG_DIR,'MydigitNet.ckpt'))\n",
    "    # check the output of the result\n",
    "    test_img = np.zeros((20,28,28,1))\n",
    "    test_img[0] = x_test[0].reshape(1,28,28,1)\n",
    "    networkoutput = sess.run(output,feed_dict = {x_pl:test_img})\n",
    "    prediction = np.argmax(networkoutput)\n",
    "    print('networkoutput',networkoutput.shape)\n",
    "    print('prediction = ',prediction)\n",
    "    print('label = ',y_test[0])\n",
    "    #output_img = networkoutput.reshape((28,28))\n",
    "    #output_img = (output_img * 255).astype('uint8')\n",
    "    #plt.imshow(output_img)"
   ]
  },
  {
   "cell_type": "markdown",
   "metadata": {},
   "source": [
    "# Add Noise"
   ]
  },
  {
   "cell_type": "code",
   "execution_count": 19,
   "metadata": {},
   "outputs": [
    {
     "name": "stdout",
     "output_type": "stream",
     "text": [
      "test_label 0\n",
      "test_img (20, 28, 28, 1)\n",
      "Noise_img (20, 28, 28, 1)\n"
     ]
    },
    {
     "data": {
      "text/plain": [
       "<matplotlib.image.AxesImage at 0x7fbe00547128>"
      ]
     },
     "execution_count": 19,
     "metadata": {},
     "output_type": "execute_result"
    },
    {
     "data": {
      "image/png": "[encoded data removed]",
      "text/plain": [
       "<Figure size 432x288 with 1 Axes>"
      ]
     },
     "metadata": {
      "needs_background": "light"
     },
     "output_type": "display_data"
    },
    {
     "data": {
      "image/png": "[encoded data removed]",
      "text/plain": [
       "<Figure size 432x288 with 1 Axes>"
      ]
     },
     "metadata": {
      "needs_background": "light"
     },
     "output_type": "display_data"
    }
   ],
   "source": [
    "#print('networkoutput = ',networkoutput)\n",
    "test_index = 3\n",
    "test_img = np.zeros((20,28,28,1))\n",
    "\n",
    "test_img[0] = x_test[test_index].reshape(1,28,28,1)\n",
    "test_label = y_test[test_index].astype('int32')\n",
    "print('test_label',test_label)\n",
    "# add Noise\n",
    "\n",
    "Noise_img = np.zeros((test_img.shape))\n",
    "Noise_img = test_img + 0.25 * np.random.normal(size = (1,28,28,1))\n",
    "Noise_img = np.clip(Noise_img,0,1)\n",
    "\n",
    "print('test_img',test_img.shape)\n",
    "print('Noise_img',Noise_img.shape)\n",
    "plt.figure()\n",
    "plt.imshow(test_img[0].reshape((28,28)))\n",
    "plt.figure()\n",
    "plt.imshow(Noise_img[0].reshape((28,28)))"
   ]
  },
  {
   "cell_type": "markdown",
   "metadata": {},
   "source": [
    "#  Varify Idea for different score"
   ]
  },
  {
   "cell_type": "code",
   "execution_count": 5,
   "metadata": {},
   "outputs": [
    {
     "name": "stdout",
     "output_type": "stream",
     "text": [
      "WARNING:tensorflow:From /home/chaotang/anaconda3/lib/python3.7/site-packages/tensorflow/python/ops/resource_variable_ops.py:435: colocate_with (from tensorflow.python.framework.ops) is deprecated and will be removed in a future version.\n",
      "Instructions for updating:\n",
      "Colocations handled automatically by placer.\n",
      "WARNING:tensorflow:From /home/chaotang/anaconda3/lib/python3.7/site-packages/tensorflow/python/training/saver.py:1266: checkpoint_exists (from tensorflow.python.training.checkpoint_management) is deprecated and will be removed in a future version.\n",
      "Instructions for updating:\n",
      "Use standard file APIs to check for files with this prefix.\n",
      "INFO:tensorflow:Restoring parameters from /home/chaotang/文档/Try/log/MydigitNet.ckpt\n",
      "Model restored.\n"
     ]
    },
    {
     "data": {
      "text/plain": [
       "[<matplotlib.lines.Line2D at 0x7fbe540bda58>]"
      ]
     },
     "execution_count": 5,
     "metadata": {},
     "output_type": "execute_result"
    },
    {
     "data": {
      "image/png": "[encoded data removed]",
      "text/plain": [
       "<Figure size 432x288 with 1 Axes>"
      ]
     },
     "metadata": {
      "needs_background": "light"
     },
     "output_type": "display_data"
    }
   ],
   "source": [
    "tf.reset_default_graph()\n",
    "MODEL_PATH = os.path.join(LOG_DIR,'MydigitNet.ckpt')\n",
    "\n",
    "x_pl = tf.placeholder(tf.float32,shape = [None,28,28,1],name = 'x_pl')\n",
    "label_pl = tf.placeholder(tf.int32,shape = [None],name = 'label_pl')\n",
    "\n",
    "loss,output = digitNet(x_pl,label_pl)\n",
    "\n",
    "saver = tf.train.Saver()\n",
    "with tf.Session() as sess: \n",
    "    saver.restore(sess, MODEL_PATH)\n",
    "    print(\"Model restored.\")\n",
    "    count = 0\n",
    "    \n",
    "    # Get the original input score\n",
    "    feed = {x_pl:test_img}\n",
    "    originalscore= sess.run(output,feed_dict =feed)# shape = (20, 10)\n",
    "    score_mat_i = np.zeros((11,28,28,1))\n",
    "    score_mat_i[:,...] = test_img[0]\n",
    "    \n",
    "    for i in range(11):\n",
    "        \n",
    "        score_mat_i[i,17,12,:] = 0.1 * i\n",
    "    feed = {x_pl:score_mat_i}\n",
    "    output_cpoint= sess.run(output,feed_dict =feed)\n",
    "    S = np.zeros((10,11))\n",
    "    for i in range(10):\n",
    "        S[i,:] = output_cpoint[:,i]\n",
    "        \n",
    "plt.plot(S[0,:])"
   ]
  },
  {
   "cell_type": "markdown",
   "metadata": {},
   "source": [
    "# Get weight Mask"
   ]
  },
  {
   "cell_type": "code",
   "execution_count": 6,
   "metadata": {},
   "outputs": [
    {
     "name": "stdout",
     "output_type": "stream",
     "text": [
      "INFO:tensorflow:Restoring parameters from /home/chaotang/文档/Try/log/MydigitNet.ckpt\n",
      "Model restored.\n",
      "Mask has been generated\n"
     ]
    }
   ],
   "source": [
    "# Find the zero image from the training set\n",
    "ZeroImg = np.zeros((20,28,28,1))# Store image with digit Zero\n",
    "count = 0 \n",
    "ndigit = 0\n",
    "for cIndex in range(60000):\n",
    "    if (y_train[cIndex]==ndigit):\n",
    "        ZeroImg[count,...] = x_train[cIndex,...]\n",
    "        count += 1\n",
    "        if count == 20:break\n",
    "Mask_w = np.zeros((20,28,28,10)) # (28,28) across 10 classes\n",
    "# Get the score mask for Zero\n",
    "# also remember to reset_everything to defaut!!!\n",
    "tf.reset_default_graph()\n",
    "MODEL_PATH = os.path.join(LOG_DIR,'MydigitNet.ckpt')\n",
    "\n",
    "x_pl = tf.placeholder(tf.float32,shape = [None,28,28,1],name = 'x_pl')\n",
    "label_pl = tf.placeholder(tf.int32,shape = [None],name = 'label_pl')\n",
    "\n",
    "loss,output = digitNet(x_pl,label_pl)\n",
    "\n",
    "saver = tf.train.Saver()\n",
    "with tf.Session() as sess: \n",
    "    saver.restore(sess, MODEL_PATH)\n",
    "    print(\"Model restored.\")\n",
    "    count = 0\n",
    "    for Mindex in range(20):\n",
    "        # Calculate the score purtubation for each pixel \n",
    "        for row in range (28):\n",
    "            for col in range(28): \n",
    "                score_mat_i = np.zeros((11,28,28,1))\n",
    "                score_mat_i[:,...] = ZeroImg[Mindex]\n",
    "\n",
    "                for i in range(11):\n",
    "                    score_mat_i[i,row,col,:] = 0.1 * i\n",
    "\n",
    "                feed = {x_pl:score_mat_i}\n",
    "                output_cpoint= sess.run(output,feed_dict =feed)\n",
    "                S = np.zeros((10,11))\n",
    "                for i in range(10):\n",
    "                    S[i,:] = output_cpoint[:,i]\n",
    "                # S[i,:] 是第i个class 的分数\n",
    "                S_min = np.amin(S,axis = 1)# shape = (10,)\n",
    "                S_max = np.amax(S,axis = 1)\n",
    "                # Two ways to define the sensitivity\n",
    "                # Sensitivity = S_max - S_min # 这个似乎不太合理，会把副方向的激发也当成正方向的激发//确定这个不能用了\n",
    "                # Sensitivity = S_max # 不合理\n",
    "                # Sensitivity = S_max - originalscore[0,i] # 同样不合理\n",
    "                Apoint = S[:,0]\n",
    "                Bpoint = S[:,5]\n",
    "                Cpoint = S[:,10]\n",
    "                # Sensitivity =  (Cpoint - Apoint) + np.square((Cpoint-Bpoint)-(Bpoint-Apoint)) \n",
    "                # Sensitivity = np.absolute((Cpoint-Bpoint)-(Bpoint-Apoint)) \n",
    "                Sensitivity = (Cpoint - Apoint) + (Bpoint-Apoint)\n",
    "                Mask_w[Mindex,row,col,:] = Sensitivity           \n",
    "print('Mask has been generated')"
   ]
  },
  {
   "cell_type": "code",
   "execution_count": 31,
   "metadata": {},
   "outputs": [
    {
     "data": {
      "text/plain": [
       "<matplotlib.image.AxesImage at 0x7fbe00714390>"
      ]
     },
     "execution_count": 31,
     "metadata": {},
     "output_type": "execute_result"
    },
    {
     "data": {
      "image/png": "[encoded data removed]",
      "text/plain": [
       "<Figure size 600x400 with 1 Axes>"
      ]
     },
     "metadata": {
      "needs_background": "light"
     },
     "output_type": "display_data"
    }
   ],
   "source": [
    "zeromask = np.clip(Mask_w[...,ndigit],0,1) #- np.amin(Mask_w[...,0])\n",
    "Avg_zero = np.sum(zeromask,axis = 0)\n",
    "zeromask = Avg_zero/20\n",
    "# print(zeromask[21,10])\n",
    "plt.rcParams['figure.dpi'] = 100 #分辨率\n",
    "plt.imshow(zeromask)"
   ]
  },
  {
   "cell_type": "markdown",
   "metadata": {},
   "source": [
    "# Denoise with Weight Mask"
   ]
  },
  {
   "cell_type": "code",
   "execution_count": 23,
   "metadata": {},
   "outputs": [
    {
     "name": "stdout",
     "output_type": "stream",
     "text": [
      "deltax:0\n",
      "conv1/kernel:0\n",
      "conv1/bias:0\n",
      "conv2/kernel:0\n",
      "conv2/bias:0\n",
      "fc1/kernel:0\n",
      "fc1/bias:0\n",
      "out/kernel:0\n",
      "out/bias:0\n",
      "###############################\n",
      "conv1/kernel:0\n",
      "conv1/bias:0\n",
      "conv2/kernel:0\n",
      "conv2/bias:0\n",
      "fc1/kernel:0\n",
      "fc1/bias:0\n",
      "out/kernel:0\n",
      "out/bias:0\n",
      "This is the train-graph name\n",
      "###############################\n",
      "INFO:tensorflow:Restoring parameters from /home/chaotang/文档/Try/log/MydigitNet.ckpt\n",
      "Model restored.\n",
      "TestLabel 0\n",
      "Noise_img (20, 28, 28, 1)\n",
      "deltax=  (28, 28, 1)\n",
      "-3.4389052391052246\n"
     ]
    },
    {
     "data": {
      "image/png": "[encoded data removed]",
      "text/plain": [
       "<Figure size 432x288 with 1 Axes>"
      ]
     },
     "metadata": {
      "needs_background": "light"
     },
     "output_type": "display_data"
    }
   ],
   "source": [
    "# restore the model\n",
    "tf.reset_default_graph()\n",
    "batchsize = 20\n",
    "MODEL_PATH = os.path.join(LOG_DIR,'MydigitNet.ckpt')\n",
    "###############################\n",
    "### Have to redifine Graph ####\n",
    "###############################\n",
    "# this is the new graph\n",
    "x_pl = tf.placeholder(tf.float32,shape = [batchsize,28,28,1],name = 'x_pl')\n",
    "# x_pl = Noise_img\n",
    "label_pl = tf.placeholder(tf.int32,shape = [batchsize],name = 'label_pl')\n",
    "\n",
    "deltax = tf.get_variable('deltax',dtype=tf.float32,shape = x_pl.shape,initializer = tf.zeros_initializer)\n",
    "# 必须要固定shape 才行，否则不允许如此设定变量\n",
    "\n",
    "New_x = tf.clip_by_value((x_pl + deltax),0,1)# this may need a clip operation\n",
    "#New_x = x_pl + deltax\n",
    "\n",
    "loss,output = digitNet(New_x,label_pl)\n",
    "pre_trained_list = []\n",
    "var_list = []\n",
    "#optimizer = tf.train.AdamOptimizer(0.005)##################################################\n",
    "# define loss function (energy) \n",
    "    # E1 = deltaX^2\n",
    "E1 = 0.3 * tf.reduce_sum(tf.square(deltax[0])) # this become a scalar/// the shape of deltax[0] = (28,28,1)\n",
    "    # E2 = Si ^ 2\n",
    "E2 = -0.5 * output[0,test_label]\n",
    "    # E3 = weight * pixel value\n",
    "    # Define modify image\n",
    "M_img = Noise_img[0,...,0] + deltax[0,...,0]\n",
    "    \n",
    "E3 = 0.115 * tf.reduce_sum((1-zeromask) * M_img)\n",
    "#E3 = tf.reduce_sum(tf.square()) \n",
    "\n",
    "energy_total = E1 + E2 + E3\n",
    "    # optimizer define\n",
    "optimizer = tf.train.GradientDescentOptimizer(0.001)\n",
    "#optimizer = tf.train.AdamOptimizer(0.005)\n",
    "    # 训练条件配置\n",
    "train_var = tf.get_collection(tf.GraphKeys.TRAINABLE_VARIABLES,scope = 'deltax:0')\n",
    "train_op = optimizer.minimize(energy_total,var_list = train_var)\n",
    "    \n",
    "for var in tf.global_variables():\n",
    "    print(var.name)\n",
    "    var_list.append(var)\n",
    "pre_trained_list = var_list[1:]\n",
    "print('###############################')\n",
    "for var in pre_trained_list:\n",
    "    print(var.name)\n",
    "print('This is the train-graph name')\n",
    "print('###############################')\n",
    "\n",
    "saver = tf.train.Saver(var_list=pre_trained_list)\n",
    "\n",
    "##################################\n",
    "####### Graph has been redefine###\n",
    "#################################\n",
    "\n",
    "displacement_mat = np.zeros((500,28,28,1)) # store the displacement for every 100 iteration\n",
    "##############################################################\n",
    "with tf.Session() as sess:\n",
    "    #sess.run(tf.variables_initializer([deltax]))\n",
    "    \n",
    "    sess.run(tf.global_variables_initializer())\n",
    "    \n",
    "    saver.restore(sess,MODEL_PATH)\n",
    "    print(\"Model restored.\")\n",
    "    #print('NoiseOutput',NoiseOutput[0])\n",
    "    print('TestLabel',test_label)\n",
    "    \n",
    "    feed = {x_pl:Noise_img}\n",
    "    print('Noise_img',Noise_img.shape)\n",
    "    loss_mat = np.zeros((4000,))\n",
    "    for i in range(4000):\n",
    "        _,loss_in_loop = sess.run([train_op,energy_total],feed_dict = feed)\n",
    "        #print('energy_total',loss_in_loop)\n",
    "        loss_mat[i] = loss_in_loop\n",
    "        #if i%1 ==0:\n",
    "           # j = int(i/1)\n",
    "            #displacement_mat[j,...] = deltax[0].eval()  \n",
    "        \n",
    "    print('deltax= ',deltax[0].eval().shape)\n",
    "    displacement = deltax[0].eval()\n",
    "    #print('displacement = ',displacement)\n",
    "plt.plot(loss_mat)\n",
    "print(np.amin(loss_mat))"
   ]
  },
  {
   "cell_type": "code",
   "execution_count": 24,
   "metadata": {},
   "outputs": [
    {
     "name": "stdout",
     "output_type": "stream",
     "text": [
      "INFO:tensorflow:Restoring parameters from /home/chaotang/文档/Try/log/MydigitNet.ckpt\n",
      "Model restored.\n",
      "done with Network output\n"
     ]
    }
   ],
   "source": [
    "tf.reset_default_graph()\n",
    "MODEL_PATH = os.path.join(LOG_DIR,'MydigitNet.ckpt')\n",
    "# Have to redifine Graph\n",
    "x_pl = tf.placeholder(tf.float32,shape = [None,28,28,1],name = 'x_pl')\n",
    "label_pl = tf.placeholder(tf.int32,shape = [None],name = 'label_pl')\n",
    "\n",
    "loss,output = digitNet(x_pl,label_pl)\n",
    "\n",
    "saver = tf.train.Saver()\n",
    "with tf.Session() as sess: \n",
    "    saver.restore(sess, MODEL_PATH)\n",
    "    print(\"Model restored.\")\n",
    "    # 设置输出小数点位数\n",
    "    np.set_printoptions(precision=10)\n",
    "    \n",
    "    feed1 = {x_pl:test_img}\n",
    "    output1 = sess.run(output,feed_dict =feed1)\n",
    "    \n",
    "    #Noise_img[:,16,9,:] +=1\n",
    "    \n",
    "    feed2 = {x_pl:Noise_img}\n",
    "    output2 = sess.run(output,feed_dict =feed2)\n",
    "    \n",
    "    feed3 = {x_pl:Noise_img + displacement.reshape(1,28,28,1)}\n",
    "    output3 = sess.run(output,feed_dict =feed3)\n",
    "print('done with Network output')"
   ]
  },
  {
   "cell_type": "code",
   "execution_count": 34,
   "metadata": {},
   "outputs": [
    {
     "name": "stdout",
     "output_type": "stream",
     "text": [
      "Original score for testLabel=  22.248114\n",
      "Original output =  [ 22.24811 -20.547    -6.05222 -13.07427  -5.25882  -5.92539  -3.70146\n",
      "  -9.3079   -7.48387  -4.21053]\n",
      "Noise score for testLabel=  15.509621\n",
      "Noise output =  [ 15.50962 -13.33969  -1.45824  -9.34249  -4.72094  -4.48488  -3.80246\n",
      "  -5.50317  -5.2494   -4.371  ]\n",
      "New score for testLabel=  34.63661\n",
      "New output=  [ 34.63661 -22.27967  -0.80339 -17.86226 -14.89007 -11.90561  -3.07001\n",
      " -16.15649  -6.29652 -13.10338]\n",
      "different =  0.018677451312007497\n"
     ]
    },
    {
     "data": {
      "image/png": "[encoded data removed]",
      "text/plain": [
       "<Figure size 480x320 with 1 Axes>"
      ]
     },
     "metadata": {
      "needs_background": "light"
     },
     "output_type": "display_data"
    },
    {
     "data": {
      "image/png": "[encoded data removed]",
      "text/plain": [
       "<Figure size 480x320 with 1 Axes>"
      ]
     },
     "metadata": {
      "needs_background": "light"
     },
     "output_type": "display_data"
    },
    {
     "data": {
      "image/png": "[encoded data removed]",
      "text/plain": [
       "<Figure size 480x320 with 1 Axes>"
      ]
     },
     "metadata": {
      "needs_background": "light"
     },
     "output_type": "display_data"
    }
   ],
   "source": [
    "np.set_printoptions(precision=5)\n",
    "plt.rcParams['figure.dpi'] = 80 #分辨率\n",
    "plt.imshow(test_img[0].reshape((28,28)))\n",
    "print('Original score for testLabel= ',output1[0,test_label]) #test_label\n",
    "print('Original output = ',output1[0,:]) #test_label\n",
    "\n",
    "plt.figure()\n",
    "Old_noise = np.clip(Noise_img[0],0,1).reshape((28,28))\n",
    "plt.imshow(Old_noise)\n",
    "print('Noise score for testLabel= ',output2[0,test_label])\n",
    "print('Noise output = ',output2[0,:]) #test_label\n",
    "\n",
    "plt.figure()\n",
    "# Change \n",
    "Processed = np.clip(Noise_img[0] + displacement,0,1).reshape((28,28))\n",
    "plt.imshow(Processed)\n",
    "print('New score for testLabel= ',output3[0,test_label])\n",
    "print('New output= ',output3[0,:])\n",
    "\n",
    "print('different = ',  np.square(Processed-Old_noise).mean())"
   ]
  },
  {
   "cell_type": "code",
   "execution_count": null,
   "metadata": {},
   "outputs": [],
   "source": []
  },
  {
   "cell_type": "code",
   "execution_count": null,
   "metadata": {},
   "outputs": [],
   "source": []
  }
 ],
 "metadata": {
  "kernelspec": {
   "display_name": "Python 3",
   "language": "python",
   "name": "python3"
  },
  "language_info": {
   "codemirror_mode": {
    "name": "ipython",
    "version": 3
   },
   "file_extension": ".py",
   "mimetype": "text/x-python",
   "name": "python",
   "nbconvert_exporter": "python",
   "pygments_lexer": "ipython3",
   "version": "3.7.3"
  }
 },
 "nbformat": 4,
 "nbformat_minor": 2
}
