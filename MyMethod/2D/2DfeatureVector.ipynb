{
 "cells": [
  {
   "cell_type": "code",
   "execution_count": 2,
   "metadata": {},
   "outputs": [
    {
     "name": "stdout",
     "output_type": "stream",
     "text": [
      "\u001b[H\u001b[2J"
     ]
    }
   ],
   "source": [
    "%clear"
   ]
  },
  {
   "cell_type": "code",
   "execution_count": 18,
   "metadata": {},
   "outputs": [
    {
     "name": "stdout",
     "output_type": "stream",
     "text": [
      "current working dirctory =  /home/chaotang/文档/Try/2D\n",
      "current log dirctory =  /home/chaotang/文档/Try/2D/log\n"
     ]
    }
   ],
   "source": [
    "import numpy as np\n",
    "import tensorflow as tf\n",
    "import datetime\n",
    "# this code is used to check whether my gradient calculation can be used\n",
    "import os\n",
    "import sys\n",
    "BASE_DIR = os.getcwd()\n",
    "from tensorflow import keras\n",
    "import matplotlib.pyplot as plt\n",
    "\n",
    "from tensorflow.keras.models import Model\n",
    "from tensorflow.keras.layers import Dense,Dropout,Conv2D,MaxPooling2D,Flatten\n",
    "from tensorflow.keras.datasets import mnist\n",
    "from tensorflow.keras.regularizers import l1\n",
    "from tensorflow.keras.optimizers import Adam\n",
    "from tensorflow import keras\n",
    "import copy\n",
    "import random\n",
    "import cv2\n",
    "\n",
    "print('current working dirctory = ',BASE_DIR)\n",
    "LOG_DIR = BASE_DIR + '/log'\n",
    "# 设定了一个log 的路径，方便如何存入和读取模型\n",
    "if not os.path.exists(LOG_DIR): os.mkdir(LOG_DIR)\n",
    "print('current log dirctory = ',LOG_DIR)\n"
   ]
  },
  {
   "cell_type": "code",
   "execution_count": 4,
   "metadata": {},
   "outputs": [
    {
     "name": "stdout",
     "output_type": "stream",
     "text": [
      "(60000, 28, 28, 1)\n",
      "(10000, 28, 28, 1)\n",
      "(60000,)\n",
      "(10000,)\n"
     ]
    }
   ],
   "source": [
    "(x_train, y_train), (x_test, y_test) = mnist.load_data()\n",
    "#x_train = np.round(x_train/255)\n",
    "#x_test = np.round(x_test/255)\n",
    "x_train = np.round(x_train)/255\n",
    "x_test = np.round(x_test)/255\n",
    "\n",
    "x_train = x_train.astype('float32')\n",
    "x_test = x_test.astype('float32')\n",
    "\n",
    "x_train = np.reshape(x_train,[60000,28,28,1])\n",
    "x_test = np.reshape(x_test,[10000,28,28,1])\n",
    "\n",
    "print(x_train.shape)\n",
    "print(x_test.shape)\n",
    "print(y_train.shape)\n",
    "print(y_test.shape)"
   ]
  },
  {
   "cell_type": "code",
   "execution_count": 5,
   "metadata": {},
   "outputs": [],
   "source": [
    "# 传统的定义方法\n",
    "def digitNet(x,label):\n",
    "    conv1 = Conv2D(32,(5,5),activation = 'relu',name = 'conv1')(x)\n",
    "    print('conv1',conv1.shape) #(20, 26, 26, 32)\n",
    "    MP1 = MaxPooling2D(pool_size=(2, 2),name = 'MP1')(conv1)\n",
    "    print('MP1',MP1.shape) # (20, 13, 13, 32)\n",
    "    conv2 = Conv2D(32,(3,3),activation = 'relu',name = 'conv2')(MP1)\n",
    "    print('conv2',conv2.shape) # (20, 11, 11, 32)\n",
    "    MP2 = MaxPooling2D(pool_size=(2, 2),name = 'MP2')(conv2)\n",
    "    print('MP2',MP2.shape) # (20, 5, 5, 32)\n",
    "    # Dp1 =Dropout(rate = 0.2,name = 'Dp1')(MP1)\n",
    "    # go down one more. Add one more conv and one more mp\n",
    "    # leave the dp1\n",
    "    Flat = Flatten()(MP2)\n",
    "    print('Flat',Flat.shape) # (20, 800)\n",
    "    fc1 = Dense(128,activation = 'relu',name = 'fc1')(Flat)\n",
    "    #out = Dense(10,activation = 'softmax',name = 'out')(fc1)\n",
    "    print('fc1',fc1.shape) # (20, 128)\n",
    "    #Dp1 =Dropout(rate = 0.3,name = 'Dp1')(fc1)\n",
    "    out = Dense(10,name = 'out')(fc1)\n",
    "    \n",
    "    loss = tf.nn.sparse_softmax_cross_entropy_with_logits(logits=out, labels=label)\n",
    "    return loss, out"
   ]
  },
  {
   "cell_type": "markdown",
   "metadata": {},
   "source": [
    "# VectorMask"
   ]
  },
  {
   "cell_type": "code",
   "execution_count": 17,
   "metadata": {},
   "outputs": [
    {
     "name": "stdout",
     "output_type": "stream",
     "text": [
      "conv1 (?, 24, 24, 32)\n",
      "MP1 (?, 12, 12, 32)\n",
      "conv2 (?, 10, 10, 32)\n",
      "MP2 (?, 5, 5, 32)\n",
      "Flat (?, 800)\n",
      "fc1 (?, 128)\n",
      "INFO:tensorflow:Restoring parameters from /home/chaotang/文档/Try/2D/log/MydigitNet.ckpt\n",
      "Model restored.\n",
      "FeatureVector has been generated\n"
     ]
    }
   ],
   "source": [
    "# Find the zero image from the training set\n",
    "ZeroImg = np.zeros((20,28,28,1))# Store image with digit Zero\n",
    "count = 0 \n",
    "ndigit = 9\n",
    "\n",
    "for cIndex in range(60000):\n",
    "    if (y_train[cIndex]==ndigit):\n",
    "        ZeroImg[count,...] = x_train[cIndex,...]\n",
    "        count += 1\n",
    "        if count == 20:break\n",
    "Mask_w = np.zeros((20,28,28,10)) # (28,28) across 10 classes\n",
    "# Get the score mask for Zero\n",
    "# also remember to reset_everything to defaut!!!\n",
    "tf.reset_default_graph()\n",
    "MODEL_PATH = os.path.join(LOG_DIR,'MydigitNet.ckpt')\n",
    "\n",
    "x_pl = tf.placeholder(tf.float32,shape = [None,28,28,1],name = 'x_pl')\n",
    "label_pl = tf.placeholder(tf.int32,shape = [None],name = 'label_pl')\n",
    "\n",
    "loss,output = digitNet(x_pl,label_pl)\n",
    "\n",
    "saver = tf.train.Saver()\n",
    "with tf.Session() as sess: \n",
    "    saver.restore(sess, MODEL_PATH)\n",
    "    print(\"Model restored.\")\n",
    "            \n",
    "    feed = {x_pl:ZeroImg}\n",
    "    output_score = sess.run(output,feed_dict =feed)\n",
    "feature = np.mean(output_score,axis = 0)\n",
    "print('FeatureVector has been generated')"
   ]
  },
  {
   "cell_type": "code",
   "execution_count": 25,
   "metadata": {},
   "outputs": [
    {
     "name": "stdout",
     "output_type": "stream",
     "text": [
      "test_label 9\n",
      "test_img (20, 28, 28, 1)\n",
      "Noise_img (20, 28, 28, 1)\n"
     ]
    },
    {
     "data": {
      "text/plain": [
       "<matplotlib.image.AxesImage at 0x7faca7f20208>"
      ]
     },
     "execution_count": 25,
     "metadata": {},
     "output_type": "execute_result"
    },
    {
     "data": {
      "image/png": "[encoded data removed]",
      "text/plain": [
       "<Figure size 432x288 with 1 Axes>"
      ]
     },
     "metadata": {
      "needs_background": "light"
     },
     "output_type": "display_data"
    },
    {
     "data": {
      "image/png": "[encoded data removed]",
      "text/plain": [
       "<Figure size 432x288 with 1 Axes>"
      ]
     },
     "metadata": {
      "needs_background": "light"
     },
     "output_type": "display_data"
    }
   ],
   "source": [
    "#print('networkoutput = ',networkoutput)\n",
    "test_index = 12\n",
    "\n",
    "test_img = np.zeros((20,28,28,1))\n",
    "\n",
    "test_img[0] = x_test[test_index].reshape(1,28,28,1)\n",
    "test_label = y_test[test_index].astype('int32')\n",
    "print('test_label',test_label)\n",
    "# add Noise\n",
    "\n",
    "Noise_img = np.zeros((test_img.shape))\n",
    "Noise_img = test_img + 0.5 * np.random.normal(size = (1,28,28,1))\n",
    "Noise_img = np.clip(Noise_img,0,1)\n",
    "\n",
    "print('test_img',test_img.shape)\n",
    "print('Noise_img',Noise_img.shape)\n",
    "plt.figure()\n",
    "plt.imshow(test_img[0].reshape((28,28)),cmap = 'gray')\n",
    "plt.figure()\n",
    "plt.imshow(Noise_img[0].reshape((28,28)),cmap = 'gray')"
   ]
  },
  {
   "cell_type": "code",
   "execution_count": 32,
   "metadata": {},
   "outputs": [
    {
     "name": "stdout",
     "output_type": "stream",
     "text": [
      "conv1 (20, 24, 24, 32)\n",
      "MP1 (20, 12, 12, 32)\n",
      "conv2 (20, 10, 10, 32)\n",
      "MP2 (20, 5, 5, 32)\n",
      "Flat (20, 800)\n",
      "fc1 (20, 128)\n",
      "deltax:0\n",
      "conv1/kernel:0\n",
      "conv1/bias:0\n",
      "conv2/kernel:0\n",
      "conv2/bias:0\n",
      "fc1/kernel:0\n",
      "fc1/bias:0\n",
      "out/kernel:0\n",
      "out/bias:0\n",
      "###############################\n",
      "conv1/kernel:0\n",
      "conv1/bias:0\n",
      "conv2/kernel:0\n",
      "conv2/bias:0\n",
      "fc1/kernel:0\n",
      "fc1/bias:0\n",
      "out/kernel:0\n",
      "out/bias:0\n",
      "This is the train-graph name\n",
      "###############################\n",
      "INFO:tensorflow:Restoring parameters from /home/chaotang/文档/Try/2D/log/MydigitNet.ckpt\n",
      "Model restored.\n",
      "Noise_img (20, 28, 28, 1)\n",
      "deltax=  (28, 28, 1)\n",
      "3.0872745513916016\n"
     ]
    },
    {
     "data": {
      "image/png": "[encoded data removed]",
      "text/plain": [
       "<Figure size 480x320 with 1 Axes>"
      ]
     },
     "metadata": {
      "needs_background": "light"
     },
     "output_type": "display_data"
    }
   ],
   "source": [
    "# restore the model\n",
    "tf.reset_default_graph()\n",
    "batchsize = 20\n",
    "MODEL_PATH = os.path.join(LOG_DIR,'MydigitNet.ckpt')\n",
    "###############################\n",
    "### Have to redifine Graph ####\n",
    "###############################\n",
    "# this is the new graph\n",
    "x_pl = tf.placeholder(tf.float32,shape = [batchsize,28,28,1],name = 'x_pl')\n",
    "# x_pl = Noise_img\n",
    "label_pl = tf.placeholder(tf.int32,shape = [batchsize],name = 'label_pl')\n",
    "\n",
    "deltax = tf.get_variable('deltax',dtype=tf.float32,shape = x_pl.shape,initializer = tf.zeros_initializer)\n",
    "# 必须要固定shape 才行，否则不允许如此设定变量\n",
    "\n",
    "New_x = tf.clip_by_value((x_pl + deltax),0,1)# this may need a clip operation\n",
    "#New_x = x_pl + deltax\n",
    "\n",
    "loss,output = digitNet(New_x,label_pl)\n",
    "pre_trained_list = []\n",
    "var_list = []\n",
    "#optimizer = tf.train.AdamOptimizer(0.005)##################################################\n",
    "# define loss function (energy) \n",
    "    # E1 = deltaX^2\n",
    "E1 = 0.0 * tf.reduce_sum(tf.square(deltax[0])) # this become a scalar/// the shape of deltax[0] = (28,28,1)\n",
    "    # E2 = Si ^ 2\n",
    "#E2 = keras.losses.binary_crossentropy(feature, output[0])\n",
    "E2 = 0.5 * tf.reduce_sum(tf.square(feature - output[0]))\n",
    "energy_total = E1 + E2\n",
    "    # optimizer define\n",
    "optimizer = tf.train.GradientDescentOptimizer(0.001)\n",
    "\n",
    "#optimizer = tf.train.AdamOptimizer(0.005)\n",
    "    # 训练条件配置\n",
    "train_var = tf.get_collection(tf.GraphKeys.TRAINABLE_VARIABLES,scope = 'deltax:0')\n",
    "train_op = optimizer.minimize(energy_total,var_list = train_var)\n",
    "    \n",
    "for var in tf.global_variables():\n",
    "    print(var.name)\n",
    "    var_list.append(var)\n",
    "pre_trained_list = var_list[1:]\n",
    "print('###############################')\n",
    "for var in pre_trained_list:\n",
    "    print(var.name)\n",
    "print('This is the train-graph name')\n",
    "print('###############################')\n",
    "\n",
    "saver = tf.train.Saver(var_list=pre_trained_list)\n",
    "\n",
    "##################################\n",
    "####### Graph has been redefine###\n",
    "#################################\n",
    "\n",
    "displacement_mat = np.zeros((500,28,28,1)) # store the displacement for every 100 iteration\n",
    "##############################################################\n",
    "with tf.Session() as sess:\n",
    "    #sess.run(tf.variables_initializer([deltax]))\n",
    "    \n",
    "    sess.run(tf.global_variables_initializer())\n",
    "    \n",
    "    saver.restore(sess,MODEL_PATH)\n",
    "    print(\"Model restored.\")\n",
    "    #print('NoiseOutput',NoiseOutput[0])\n",
    "    \n",
    "    feed = {x_pl:Noise_img}\n",
    "    print('Noise_img',Noise_img.shape)\n",
    "    loss_mat = np.zeros((80,))\n",
    "    for i in range(80):\n",
    "        _,loss_in_loop = sess.run([train_op,energy_total],feed_dict = feed)\n",
    "        #print('energy_total',loss_in_loop)\n",
    "        loss_mat[i] = loss_in_loop\n",
    "        #if i%1 ==0:\n",
    "           # j = int(i/1)\n",
    "            #displacement_mat[j,...] = deltax[0].eval()  \n",
    "        \n",
    "    print('deltax= ',deltax[0].eval().shape)\n",
    "    displacement = deltax[0].eval()\n",
    "    #print('displacement = ',displacement)\n",
    "plt.plot(loss_mat)\n",
    "print(np.amin(loss_mat))"
   ]
  },
  {
   "cell_type": "code",
   "execution_count": 33,
   "metadata": {},
   "outputs": [
    {
     "name": "stdout",
     "output_type": "stream",
     "text": [
      "conv1 (?, 24, 24, 32)\n",
      "MP1 (?, 12, 12, 32)\n",
      "conv2 (?, 10, 10, 32)\n",
      "MP2 (?, 5, 5, 32)\n",
      "Flat (?, 800)\n",
      "fc1 (?, 128)\n",
      "INFO:tensorflow:Restoring parameters from /home/chaotang/文档/Try/2D/log/MydigitNet.ckpt\n",
      "Model restored.\n",
      "done with Network output\n"
     ]
    }
   ],
   "source": [
    "tf.reset_default_graph()\n",
    "MODEL_PATH = os.path.join(LOG_DIR,'MydigitNet.ckpt')\n",
    "# Have to redifine Graph\n",
    "x_pl = tf.placeholder(tf.float32,shape = [None,28,28,1],name = 'x_pl')\n",
    "label_pl = tf.placeholder(tf.int32,shape = [None],name = 'label_pl')\n",
    "\n",
    "loss,output = digitNet(x_pl,label_pl)\n",
    "\n",
    "saver = tf.train.Saver()\n",
    "with tf.Session() as sess: \n",
    "    saver.restore(sess, MODEL_PATH)\n",
    "    print(\"Model restored.\")\n",
    "    # 设置输出小数点位数\n",
    "    np.set_printoptions(precision=10)\n",
    "    \n",
    "    feed1 = {x_pl:test_img}\n",
    "    output1 = sess.run(output,feed_dict =feed1)\n",
    "    \n",
    "    #Noise_img[:,16,9,:] +=1\n",
    "    \n",
    "    feed2 = {x_pl:Noise_img}\n",
    "    output2 = sess.run(output,feed_dict =feed2)\n",
    "    \n",
    "    feed3 = {x_pl:Noise_img + displacement.reshape(1,28,28,1)}\n",
    "    output3 = sess.run(output,feed_dict =feed3)\n",
    "print('done with Network output')"
   ]
  },
  {
   "cell_type": "code",
   "execution_count": 34,
   "metadata": {},
   "outputs": [
    {
     "name": "stdout",
     "output_type": "stream",
     "text": [
      "Original score for testLabel=  23.673397\n",
      "Original output =  [-12.09794 -17.6905  -19.6961  -15.38374  12.15418  -8.5428  -23.13609\n",
      "  -2.6946   -5.00959  23.6734 ]\n",
      "Noise score for testLabel=  1.1412829\n",
      "Noise output =  [-5.40647 -5.46338 -3.05423 -6.432    8.20198  1.43827 -8.48928 -2.15862\n",
      " -4.55581  1.14128]\n",
      "New score for testLabel=  23.719112\n",
      "New output=  [-17.76782 -17.93807 -16.6445  -10.0926   10.06539  -6.34651 -30.93329\n",
      "  -1.9145   -8.58299  23.71911]\n",
      "different =  0.0074578220322843855\n"
     ]
    },
    {
     "data": {
      "image/png": "[encoded data removed]",
      "text/plain": [
       "<Figure size 480x320 with 1 Axes>"
      ]
     },
     "metadata": {
      "needs_background": "light"
     },
     "output_type": "display_data"
    },
    {
     "data": {
      "image/png": "[encoded data removed]",
      "text/plain": [
       "<Figure size 480x320 with 1 Axes>"
      ]
     },
     "metadata": {
      "needs_background": "light"
     },
     "output_type": "display_data"
    },
    {
     "data": {
      "image/png": "[encoded data removed]",
      "text/plain": [
       "<Figure size 480x320 with 1 Axes>"
      ]
     },
     "metadata": {
      "needs_background": "light"
     },
     "output_type": "display_data"
    }
   ],
   "source": [
    "np.set_printoptions(precision=5)\n",
    "plt.rcParams['figure.dpi'] = 80 #分辨率\n",
    "plt.imshow(test_img[0].reshape((28,28)),cmap = 'gray')\n",
    "print('Original score for testLabel= ',output1[0,test_label]) #test_label\n",
    "print('Original output = ',output1[0,:]) #test_label\n",
    "\n",
    "plt.figure()\n",
    "Old_noise = np.clip(Noise_img[0],0,1).reshape((28,28))\n",
    "plt.imshow(Old_noise,cmap = 'gray')\n",
    "print('Noise score for testLabel= ',output2[0,test_label])\n",
    "print('Noise output = ',output2[0,:]) #test_label\n",
    "\n",
    "plt.figure()\n",
    "# Change \n",
    "Processed = np.clip(Noise_img[0] + displacement,0,1).reshape((28,28))\n",
    "plt.imshow(Processed,cmap = 'gray')\n",
    "print('New score for testLabel= ',output3[0,test_label])\n",
    "print('New output= ',output3[0,:])\n",
    "\n",
    "print('different = ',  np.square(Processed-Old_noise).mean())"
   ]
  },
  {
   "cell_type": "code",
   "execution_count": 35,
   "metadata": {},
   "outputs": [],
   "source": [
    "# The noise resistance ability of Neural Network"
   ]
  },
  {
   "cell_type": "code",
   "execution_count": null,
   "metadata": {},
   "outputs": [],
   "source": []
  },
  {
   "cell_type": "code",
   "execution_count": null,
   "metadata": {},
   "outputs": [],
   "source": []
  },
  {
   "cell_type": "code",
   "execution_count": null,
   "metadata": {},
   "outputs": [],
   "source": []
  }
 ],
 "metadata": {
  "kernelspec": {
   "display_name": "Python 3",
   "language": "python",
   "name": "python3"
  },
  "language_info": {
   "codemirror_mode": {
    "name": "ipython",
    "version": 3
   },
   "file_extension": ".py",
   "mimetype": "text/x-python",
   "name": "python",
   "nbconvert_exporter": "python",
   "pygments_lexer": "ipython3",
   "version": "3.7.3"
  }
 },
 "nbformat": 4,
 "nbformat_minor": 2
}
