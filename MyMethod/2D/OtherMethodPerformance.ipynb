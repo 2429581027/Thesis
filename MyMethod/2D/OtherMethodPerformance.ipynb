{
 "cells": [
  {
   "cell_type": "code",
   "execution_count": 1,
   "metadata": {},
   "outputs": [
    {
     "name": "stdout",
     "output_type": "stream",
     "text": [
      "\u001b[H\u001b[2Jcurrent working dirctory =  /home/chaotang/文档/Try/2D\n",
      "current log dirctory =  /home/chaotang/文档/Try/2D/log\n"
     ]
    }
   ],
   "source": [
    "%clear\n",
    "import numpy as np\n",
    "import tensorflow as tf\n",
    "import datetime\n",
    "# this code is used to check whether my gradient calculation can be used\n",
    "import os\n",
    "import sys\n",
    "BASE_DIR = os.getcwd()\n",
    "from tensorflow import keras\n",
    "import matplotlib.pyplot as plt\n",
    "\n",
    "from tensorflow.keras.models import Model\n",
    "from tensorflow.keras.layers import Dense,Dropout,Conv2D,MaxPooling2D,Flatten\n",
    "from tensorflow.keras.datasets import mnist\n",
    "from tensorflow.keras.regularizers import l1\n",
    "from tensorflow.keras.optimizers import Adam\n",
    "import copy\n",
    "import cv2\n",
    "import random\n",
    "\n",
    "from scipy.ndimage import gaussian_filter\n",
    "from scipy import misc\n",
    "\n",
    "print('current working dirctory = ',BASE_DIR)\n",
    "LOG_DIR = BASE_DIR + '/log'\n",
    "# 设定了一个log 的路径，方便如何存入和读取模型\n",
    "if not os.path.exists(LOG_DIR): os.mkdir(LOG_DIR)\n",
    "print('current log dirctory = ',LOG_DIR)"
   ]
  },
  {
   "cell_type": "code",
   "execution_count": 2,
   "metadata": {},
   "outputs": [
    {
     "name": "stdout",
     "output_type": "stream",
     "text": [
      "(60000, 28, 28, 1)\n",
      "(10000, 28, 28, 1)\n",
      "(60000,)\n",
      "(10000,)\n"
     ]
    }
   ],
   "source": [
    "(x_train, y_train), (x_test, y_test) = mnist.load_data()\n",
    "#x_train = np.round(x_train/255)\n",
    "#x_test = np.round(x_test/255)\n",
    "x_train = np.round(x_train)/255\n",
    "x_test = np.round(x_test)/255\n",
    "\n",
    "x_train = x_train.astype('float32')\n",
    "x_test = x_test.astype('float32')\n",
    "\n",
    "x_train = np.reshape(x_train,[60000,28,28,1])\n",
    "x_test = np.reshape(x_test,[10000,28,28,1])\n",
    "\n",
    "print(x_train.shape)\n",
    "print(x_test.shape)\n",
    "print(y_train.shape)\n",
    "print(y_test.shape)"
   ]
  },
  {
   "cell_type": "code",
   "execution_count": 3,
   "metadata": {},
   "outputs": [],
   "source": [
    "# 传统的定义方法\n",
    "def digitNet(x,label):\n",
    "    conv1 = Conv2D(32,(5,5),activation = 'relu',name = 'conv1')(x)\n",
    "    print('conv1',conv1.shape) #(20, 26, 26, 32)\n",
    "    MP1 = MaxPooling2D(pool_size=(2, 2),name = 'MP1')(conv1)\n",
    "    print('MP1',MP1.shape) # (20, 13, 13, 32)\n",
    "    conv2 = Conv2D(32,(3,3),activation = 'relu',name = 'conv2')(MP1)\n",
    "    print('conv2',conv2.shape) # (20, 11, 11, 32)\n",
    "    MP2 = MaxPooling2D(pool_size=(2, 2),name = 'MP2')(conv2)\n",
    "    print('MP2',MP2.shape) # (20, 5, 5, 32)\n",
    "    # Dp1 =Dropout(rate = 0.2,name = 'Dp1')(MP1)\n",
    "    # go down one more. Add one more conv and one more mp\n",
    "    # leave the dp1\n",
    "    Flat = Flatten()(MP2)\n",
    "    print('Flat',Flat.shape) # (20, 800)\n",
    "    fc1 = Dense(128,activation = 'relu',name = 'fc1')(Flat)\n",
    "    #out = Dense(10,activation = 'softmax',name = 'out')(fc1)\n",
    "    print('fc1',fc1.shape) # (20, 128)\n",
    "    #Dp1 =Dropout(rate = 0.3,name = 'Dp1')(fc1)\n",
    "    out = Dense(10,name = 'out')(fc1)\n",
    "    \n",
    "    loss = tf.nn.sparse_softmax_cross_entropy_with_logits(logits=out, labels=label)\n",
    "    return loss, out"
   ]
  },
  {
   "cell_type": "markdown",
   "metadata": {},
   "source": [
    "# Add Gaussian Noise"
   ]
  },
  {
   "cell_type": "code",
   "execution_count": 5,
   "metadata": {},
   "outputs": [
    {
     "name": "stdout",
     "output_type": "stream",
     "text": [
      "test_label 9\n",
      "test_img (20, 28, 28, 1)\n",
      "Noise_img (20, 28, 28, 1)\n"
     ]
    },
    {
     "data": {
      "text/plain": [
       "<matplotlib.image.AxesImage at 0x7f046cbc0710>"
      ]
     },
     "execution_count": 5,
     "metadata": {},
     "output_type": "execute_result"
    },
    {
     "data": {
      "image/png": "[encoded data removed]",
      "text/plain": [
       "<Figure size 432x288 with 1 Axes>"
      ]
     },
     "metadata": {
      "needs_background": "light"
     },
     "output_type": "display_data"
    },
    {
     "data": {
      "image/png": "[encoded data removed]",
      "text/plain": [
       "<Figure size 432x288 with 1 Axes>"
      ]
     },
     "metadata": {
      "needs_background": "light"
     },
     "output_type": "display_data"
    }
   ],
   "source": [
    "#print('networkoutput = ',networkoutput)\n",
    "test_index = 12\n",
    "\n",
    "test_img = np.zeros((20,28,28,1))\n",
    "\n",
    "test_img[0] = x_test[test_index].reshape(1,28,28,1)\n",
    "test_label = y_test[test_index].astype('int32')\n",
    "print('test_label',test_label)\n",
    "# add Noise\n",
    "\n",
    "Noise_img = np.zeros((test_img.shape))\n",
    "Noise_img = test_img + 0.0 * np.random.normal(size = (1,28,28,1))\n",
    "Noise_img = np.clip(Noise_img,0,1)\n",
    "\n",
    "print('test_img',test_img.shape)\n",
    "print('Noise_img',Noise_img.shape)\n",
    "plt.figure()\n",
    "plt.imshow(test_img[0].reshape((28,28)),cmap = 'gray')\n",
    "plt.figure()\n",
    "plt.imshow(Noise_img[0].reshape((28,28)),cmap = 'gray')"
   ]
  },
  {
   "cell_type": "markdown",
   "metadata": {},
   "source": [
    "# Add mixed noise"
   ]
  },
  {
   "cell_type": "code",
   "execution_count": 91,
   "metadata": {},
   "outputs": [
    {
     "name": "stdout",
     "output_type": "stream",
     "text": [
      "test_label 9\n",
      "test_img (20, 28, 28, 1)\n",
      "Noise_img (20, 28, 28, 1)\n"
     ]
    },
    {
     "data": {
      "text/plain": [
       "<matplotlib.image.AxesImage at 0x7f0444236ef0>"
      ]
     },
     "execution_count": 91,
     "metadata": {},
     "output_type": "execute_result"
    },
    {
     "data": {
      "image/png": "[encoded data removed]",
      "text/plain": [
       "<Figure size 480x320 with 1 Axes>"
      ]
     },
     "metadata": {
      "needs_background": "light"
     },
     "output_type": "display_data"
    },
    {
     "data": {
      "image/png": "[encoded data removed]",
      "text/plain": [
       "<Figure size 480x320 with 1 Axes>"
      ]
     },
     "metadata": {
      "needs_background": "light"
     },
     "output_type": "display_data"
    }
   ],
   "source": [
    "test_index = 12\n",
    "\n",
    "test_img = np.zeros((20,28,28,1))\n",
    "\n",
    "test_img[0] = x_test[test_index].reshape(1,28,28,1)\n",
    "test_label = y_test[test_index].astype('int32')\n",
    "print('test_label',test_label)\n",
    "# add Noise\n",
    "\n",
    "Noise_img = np.zeros((test_img.shape))\n",
    "Noise_img = test_img + 0.0 * np.random.normal(size = (1,28,28,1))\n",
    "Noise_img = np.clip(Noise_img,0,1)\n",
    "\n",
    "print('test_img',test_img.shape)\n",
    "print('Noise_img',Noise_img.shape)\n",
    "plt.figure()\n",
    "plt.imshow(test_img[0].reshape((28,28)),cmap = 'gray')\n",
    "plt.figure()\n",
    "plt.imshow(Noise_img[0].reshape((28,28)),cmap = 'gray')"
   ]
  },
  {
   "cell_type": "markdown",
   "metadata": {},
   "source": [
    "# Add salt_and_peper noise"
   ]
  },
  {
   "cell_type": "code",
   "execution_count": 10,
   "metadata": {},
   "outputs": [
    {
     "name": "stdout",
     "output_type": "stream",
     "text": [
      "test_label 9\n",
      "test_img (20, 28, 28, 1)\n",
      "Noise_img (20, 28, 28, 1)\n"
     ]
    },
    {
     "data": {
      "text/plain": [
       "<matplotlib.image.AxesImage at 0x7fac7c256588>"
      ]
     },
     "execution_count": 10,
     "metadata": {},
     "output_type": "execute_result"
    },
    {
     "data": {
      "image/png": "[encoded data removed]",
      "text/plain": [
       "<Figure size 480x320 with 1 Axes>"
      ]
     },
     "metadata": {
      "needs_background": "light"
     },
     "output_type": "display_data"
    },
    {
     "data": {
      "image/png": "[encoded data removed]",
      "text/plain": [
       "<Figure size 480x320 with 1 Axes>"
      ]
     },
     "metadata": {
      "needs_background": "light"
     },
     "output_type": "display_data"
    }
   ],
   "source": [
    "#print('networkoutput = ',networkoutput)\n",
    "def sp_noise(image,prob):\n",
    "    '''\n",
    "    Add salt and pepper noise to image\n",
    "    prob: Probability of the noise\n",
    "    '''\n",
    "    output = np.zeros(image.shape)\n",
    "    thres = 1 - prob \n",
    "    for i in range(image.shape[0]):\n",
    "        for j in range(image.shape[1]):\n",
    "            rdn = random.random()\n",
    "            if rdn < prob:\n",
    "                output[i][j] = 0\n",
    "            elif rdn > thres:\n",
    "                output[i][j] = 1\n",
    "            else:\n",
    "                output[i][j] = image[i][j]\n",
    "    return output\n",
    "\n",
    "test_index = 12\n",
    "\n",
    "test_img = np.zeros((20,28,28,1))\n",
    "\n",
    "test_img[0] = x_test[test_index].reshape(1,28,28,1)\n",
    "test_label = y_test[test_index].astype('int32')\n",
    "print('test_label',test_label)\n",
    "# add Noise\n",
    "\n",
    "Noise_img = np.zeros((test_img.shape))\n",
    "salt_peper_img = sp_noise(test_img[0],0.025)# noise level control\n",
    "Noise_img[0] = salt_peper_img\n",
    "Noise_img = np.clip(Noise_img,0,1)\n",
    "\n",
    "print('test_img',test_img.shape)\n",
    "print('Noise_img',Noise_img.shape)\n",
    "plt.figure()\n",
    "plt.imshow(test_img[0].reshape((28,28)),cmap = 'gray')\n",
    "plt.figure()\n",
    "plt.imshow(Noise_img[0].reshape((28,28)),cmap = 'gray')"
   ]
  },
  {
   "cell_type": "markdown",
   "metadata": {},
   "source": [
    "# Gaussian Filter"
   ]
  },
  {
   "cell_type": "code",
   "execution_count": 12,
   "metadata": {},
   "outputs": [],
   "source": [
    "ascent=Noise_img[0].reshape((28,28))\n",
    "Processed = gaussian_filter(ascent,sigma=1)\n",
    "\n",
    "Network_input = Processed.reshape((1,28,28,1))"
   ]
  },
  {
   "cell_type": "code",
   "execution_count": 13,
   "metadata": {},
   "outputs": [
    {
     "name": "stdout",
     "output_type": "stream",
     "text": [
      "conv1 (?, 24, 24, 32)\n",
      "MP1 (?, 12, 12, 32)\n",
      "conv2 (?, 10, 10, 32)\n",
      "MP2 (?, 5, 5, 32)\n",
      "Flat (?, 800)\n",
      "fc1 (?, 128)\n",
      "INFO:tensorflow:Restoring parameters from /home/chaotang/文档/Try/2D/log/MydigitNet.ckpt\n",
      "Model restored.\n",
      "done with Network output\n"
     ]
    }
   ],
   "source": [
    "tf.reset_default_graph()\n",
    "MODEL_PATH = os.path.join(LOG_DIR,'MydigitNet.ckpt')\n",
    "# Have to redifine Graph\n",
    "x_pl = tf.placeholder(tf.float32,shape = [None,28,28,1],name = 'x_pl')\n",
    "label_pl = tf.placeholder(tf.int32,shape = [None],name = 'label_pl')\n",
    "\n",
    "loss,output = digitNet(x_pl,label_pl)\n",
    "\n",
    "saver = tf.train.Saver()\n",
    "with tf.Session() as sess: \n",
    "    saver.restore(sess, MODEL_PATH)\n",
    "    print(\"Model restored.\")\n",
    "    # 设置输出小数点位数\n",
    "    np.set_printoptions(precision=10)\n",
    "    \n",
    "    feed1 = {x_pl:test_img}\n",
    "    output1 = sess.run(output,feed_dict =feed1)\n",
    "    \n",
    "    #Noise_img[:,16,9,:] +=1\n",
    "    \n",
    "    feed2 = {x_pl:Noise_img}\n",
    "    output2 = sess.run(output,feed_dict =feed2)\n",
    "    \n",
    "    feed3 = {x_pl:Network_input}\n",
    "    output3 = sess.run(output,feed_dict =feed3)\n",
    "print('done with Network output')"
   ]
  },
  {
   "cell_type": "code",
   "execution_count": 14,
   "metadata": {},
   "outputs": [
    {
     "name": "stdout",
     "output_type": "stream",
     "text": [
      "Original score for testLabel=  23.673397\n",
      "Original output =  [-12.09794 -17.6905  -19.6961  -15.38374  12.15418  -8.5428  -23.13609\n",
      "  -2.6946   -5.00959  23.6734 ]\n",
      "Noise score for testLabel=  19.191422\n",
      "Noise output =  [-11.45459 -11.84194 -16.06164 -14.66453  12.15537  -7.0384  -20.95554\n",
      "   0.2428   -7.32958  19.19142]\n",
      "New score for testLabel=  9.059533\n",
      "New output=  [-5.01731 -5.98973 -8.77796 -8.52306  7.41101 -5.02911 -9.92919  0.97996\n",
      " -2.63647  9.05953]\n",
      "different =  0.026608033321588846\n"
     ]
    },
    {
     "data": {
      "image/png": "[encoded data removed]",
      "text/plain": [
       "<Figure size 480x320 with 1 Axes>"
      ]
     },
     "metadata": {
      "needs_background": "light"
     },
     "output_type": "display_data"
    },
    {
     "data": {
      "image/png": "[encoded data removed]",
      "text/plain": [
       "<Figure size 480x320 with 1 Axes>"
      ]
     },
     "metadata": {
      "needs_background": "light"
     },
     "output_type": "display_data"
    },
    {
     "data": {
      "image/png": "[encoded data removed]",
      "text/plain": [
       "<Figure size 480x320 with 1 Axes>"
      ]
     },
     "metadata": {
      "needs_background": "light"
     },
     "output_type": "display_data"
    }
   ],
   "source": [
    "np.set_printoptions(precision=5)\n",
    "plt.rcParams['figure.dpi'] = 80 #分辨率\n",
    "plt.imshow(test_img[0].reshape((28,28)),cmap = 'gray')\n",
    "print('Original score for testLabel= ',output1[0,test_label]) #test_label\n",
    "print('Original output = ',output1[0,:]) #test_label\n",
    "\n",
    "plt.figure()\n",
    "Old_noise = np.clip(Noise_img[0],0,1).reshape((28,28))\n",
    "plt.imshow(Old_noise,cmap = 'gray')\n",
    "print('Noise score for testLabel= ',output2[0,test_label])\n",
    "print('Noise output = ',output2[0,:]) #test_label\n",
    "\n",
    "plt.figure()\n",
    "plt.imshow(Processed,cmap = 'gray')\n",
    "print('New score for testLabel= ',output3[0,test_label])\n",
    "print('New output= ',output3[0,:])\n",
    "print('different = ',  np.square(Processed-Old_noise).mean())"
   ]
  },
  {
   "cell_type": "code",
   "execution_count": 15,
   "metadata": {},
   "outputs": [
    {
     "name": "stdout",
     "output_type": "stream",
     "text": [
      "noisy psnr =  17.037428\n",
      "Gaussain psnr =  17.97454\n"
     ]
    }
   ],
   "source": [
    "from tensorflow.image import psnr\n",
    "Processed = Processed.reshape((28,28,1))\n",
    "\n",
    "with tf.Session() as sess:\n",
    "    sess.run(tf.global_variables_initializer())\n",
    "    psnr_1 = psnr(test_img[0],Processed,max_val = 1.0)\n",
    "    psnr_2 = psnr(test_img[0],Noise_img[0],max_val = 1.0)\n",
    "    output_1,output_2 = sess.run([psnr_1,psnr_2])\n",
    "    print('noisy psnr = ',output_2)\n",
    "    print('Gaussain psnr = ',output_1)\n",
    "    "
   ]
  },
  {
   "cell_type": "markdown",
   "metadata": {},
   "source": [
    "# Bilateral Filter"
   ]
  },
  {
   "cell_type": "code",
   "execution_count": 109,
   "metadata": {},
   "outputs": [],
   "source": [
    "ascent=Noise_img[0].reshape((28,28))\n",
    "ascent = ascent.astype('float32')\n",
    "Processed_bi = cv2.bilateralFilter(ascent,3,1,1)\n",
    "\n",
    "Network_input = Processed_bi.reshape((1,28,28,1))"
   ]
  },
  {
   "cell_type": "code",
   "execution_count": 110,
   "metadata": {},
   "outputs": [
    {
     "name": "stdout",
     "output_type": "stream",
     "text": [
      "conv1 (?, 24, 24, 32)\n",
      "MP1 (?, 12, 12, 32)\n",
      "conv2 (?, 10, 10, 32)\n",
      "MP2 (?, 5, 5, 32)\n",
      "Flat (?, 800)\n",
      "fc1 (?, 128)\n",
      "INFO:tensorflow:Restoring parameters from /home/chaotang/文档/Try/2D/log/MydigitNet.ckpt\n",
      "Model restored.\n",
      "done with Network output\n"
     ]
    }
   ],
   "source": [
    "tf.reset_default_graph()\n",
    "MODEL_PATH = os.path.join(LOG_DIR,'MydigitNet.ckpt')\n",
    "# Have to redifine Graph\n",
    "x_pl = tf.placeholder(tf.float32,shape = [None,28,28,1],name = 'x_pl')\n",
    "label_pl = tf.placeholder(tf.int32,shape = [None],name = 'label_pl')\n",
    "\n",
    "loss,output = digitNet(x_pl,label_pl)\n",
    "\n",
    "saver = tf.train.Saver()\n",
    "with tf.Session() as sess: \n",
    "    saver.restore(sess, MODEL_PATH)\n",
    "    print(\"Model restored.\")\n",
    "    # 设置输出小数点位数\n",
    "    np.set_printoptions(precision=10)\n",
    "    \n",
    "    feed1 = {x_pl:test_img}\n",
    "    output1 = sess.run(output,feed_dict =feed1)\n",
    "    \n",
    "    #Noise_img[:,16,9,:] +=1\n",
    "    \n",
    "    feed2 = {x_pl:Noise_img}\n",
    "    output2 = sess.run(output,feed_dict =feed2)\n",
    "    \n",
    "    feed3 = {x_pl:Network_input}\n",
    "    output3 = sess.run(output,feed_dict =feed3)\n",
    "print('done with Network output')"
   ]
  },
  {
   "cell_type": "code",
   "execution_count": 111,
   "metadata": {},
   "outputs": [
    {
     "name": "stdout",
     "output_type": "stream",
     "text": [
      "New score for testLabel=  5.028982\n",
      "New output=  [ -7.14279  -4.52473  -3.90833  -9.98154  10.40491  -4.6953  -11.61902\n",
      "  -2.19827  -4.53088   5.02898]\n",
      "different =  0.18629967006462947\n"
     ]
    },
    {
     "data": {
      "image/png": "[encoded data removed]",
      "text/plain": [
       "<Figure size 480x320 with 1 Axes>"
      ]
     },
     "metadata": {
      "needs_background": "light"
     },
     "output_type": "display_data"
    }
   ],
   "source": [
    "np.set_printoptions(precision=5)\n",
    "plt.rcParams['figure.dpi'] = 80 #分辨率\n",
    "\n",
    "plt.figure()\n",
    "plt.imshow(Processed_bi,cmap = 'gray')\n",
    "print('New score for testLabel= ',output3[0,test_label])\n",
    "print('New output= ',output3[0,:])\n",
    "print('different = ',  np.square(Processed-Old_noise).mean())"
   ]
  },
  {
   "cell_type": "code",
   "execution_count": 112,
   "metadata": {},
   "outputs": [
    {
     "name": "stdout",
     "output_type": "stream",
     "text": [
      "noisy psnr =  8.05044\n",
      "Bilateral psnr =  11.957226\n"
     ]
    }
   ],
   "source": [
    "from tensorflow.image import psnr\n",
    "Processed = Processed_bi.reshape((28,28,1))\n",
    "\n",
    "with tf.Session() as sess:\n",
    "    sess.run(tf.global_variables_initializer())\n",
    "    psnr_1 = psnr(test_img[0],Processed,max_val = 1.0)\n",
    "    psnr_2 = psnr(test_img[0],Noise_img[0],max_val = 1.0)\n",
    "    output_1,output_2 = sess.run([psnr_1,psnr_2])\n",
    "    print('noisy psnr = ',output_2)\n",
    "    print('Bilateral psnr = ',output_1)\n",
    "    "
   ]
  },
  {
   "cell_type": "markdown",
   "metadata": {},
   "source": [
    "# Denoising Encoder"
   ]
  },
  {
   "cell_type": "code",
   "execution_count": null,
   "metadata": {},
   "outputs": [],
   "source": []
  },
  {
   "cell_type": "code",
   "execution_count": null,
   "metadata": {},
   "outputs": [],
   "source": []
  },
  {
   "cell_type": "code",
   "execution_count": null,
   "metadata": {},
   "outputs": [],
   "source": []
  }
 ],
 "metadata": {
  "kernelspec": {
   "display_name": "Python 3",
   "language": "python",
   "name": "python3"
  },
  "language_info": {
   "codemirror_mode": {
    "name": "ipython",
    "version": 3
   },
   "file_extension": ".py",
   "mimetype": "text/x-python",
   "name": "python",
   "nbconvert_exporter": "python",
   "pygments_lexer": "ipython3",
   "version": "3.7.3"
  }
 },
 "nbformat": 4,
 "nbformat_minor": 2
}
