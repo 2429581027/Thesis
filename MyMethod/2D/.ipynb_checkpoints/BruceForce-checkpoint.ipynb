{
 "cells": [
  {
   "cell_type": "code",
   "execution_count": 1,
   "metadata": {},
   "outputs": [
    {
     "name": "stdout",
     "output_type": "stream",
     "text": [
      "\u001b[H\u001b[2J"
     ]
    }
   ],
   "source": [
    "#%reset\n",
    "%clear"
   ]
  },
  {
   "cell_type": "code",
   "execution_count": 1,
   "metadata": {},
   "outputs": [
    {
     "name": "stdout",
     "output_type": "stream",
     "text": [
      "current working dirctory =  /home/chaotang/文档/Try/2D\n"
     ]
    }
   ],
   "source": [
    "import numpy as np\n",
    "import tensorflow as tf\n",
    "import datetime\n",
    "# this code is used to check whether my gradient calculation can be used\n",
    "import os\n",
    "import sys\n",
    "BASE_DIR = os.getcwd()\n",
    "from tensorflow import keras\n",
    "import matplotlib.pyplot as plt\n",
    "import pandas as pd\n",
    "import seaborn as sns\n",
    "\n",
    "from tensorflow.keras.models import Model\n",
    "from tensorflow.keras.layers import Dense,Dropout,Conv2D,MaxPooling2D,Flatten\n",
    "from tensorflow.keras.datasets import mnist\n",
    "from tensorflow.keras.regularizers import l1\n",
    "from tensorflow.keras.optimizers import Adam\n",
    "\n",
    "print('current working dirctory = ',BASE_DIR)"
   ]
  },
  {
   "cell_type": "code",
   "execution_count": 2,
   "metadata": {},
   "outputs": [
    {
     "name": "stdout",
     "output_type": "stream",
     "text": [
      "current log dirctory =  /home/chaotang/文档/Try/2D/log\n"
     ]
    }
   ],
   "source": [
    "input_size = 28 * 28\n",
    "output_size = 28*28\n",
    "LOG_DIR = BASE_DIR + '/log'\n",
    "# 设定了一个log 的路径，方便如何存入和读取模型\n",
    "if not os.path.exists(LOG_DIR): os.mkdir(LOG_DIR)\n",
    "print('current log dirctory = ',LOG_DIR)"
   ]
  },
  {
   "cell_type": "markdown",
   "metadata": {},
   "source": [
    "# digit recognition"
   ]
  },
  {
   "cell_type": "code",
   "execution_count": 3,
   "metadata": {},
   "outputs": [
    {
     "name": "stdout",
     "output_type": "stream",
     "text": [
      "(60000, 28, 28, 1)\n",
      "(10000, 28, 28, 1)\n",
      "(60000,)\n",
      "(10000,)\n"
     ]
    }
   ],
   "source": [
    "(x_train, y_train), (x_test, y_test) = mnist.load_data()\n",
    "x_train = x_train.astype('float32')/255\n",
    "x_test = x_test.astype('float32')/255\n",
    "\n",
    "x_train = np.reshape(x_train,[60000,28,28,1])\n",
    "x_test = np.reshape(x_test,[10000,28,28,1])\n",
    "\n",
    "print(x_train.shape)\n",
    "print(x_test.shape)\n",
    "print(y_train.shape)\n",
    "print(y_test.shape)"
   ]
  },
  {
   "cell_type": "code",
   "execution_count": 4,
   "metadata": {},
   "outputs": [],
   "source": [
    "# 传统的定义方法\n",
    "def digitNet(x,label):\n",
    "    conv1 = Conv2D(32,(5,5),activation = 'relu',name = 'conv1')(x)\n",
    "    #print('conv1',conv1.shape) #(20, 26, 26, 32)\n",
    "    MP1 = MaxPooling2D(pool_size=(2, 2),name = 'MP1')(conv1)\n",
    "    #print('MP1',MP1.shape) # (20, 13, 13, 32)\n",
    "    conv2 = Conv2D(32,(3,3),activation = 'relu',name = 'conv2')(MP1)\n",
    "    #print('conv2',conv2.shape) # (20, 11, 11, 32)\n",
    "    MP2 = MaxPooling2D(pool_size=(2, 2),name = 'MP2')(conv2)\n",
    "    #print('MP2',MP2.shape) # (20, 5, 5, 32)\n",
    "    # Dp1 =Dropout(rate = 0.2,name = 'Dp1')(MP1)\n",
    "    # go down one more. Add one more conv and one more mp\n",
    "    # leave the dp1\n",
    "    Flat = Flatten()(MP2)\n",
    "    #print('Flat',Flat.shape) # (20, 800)\n",
    "    fc1 = Dense(128,activation = 'relu',name = 'fc1')(Flat)\n",
    "    #out = Dense(10,activation = 'softmax',name = 'out')(fc1)\n",
    "    #print('fc1',fc1.shape) # (20, 128)\n",
    "    #Dp1 =Dropout(rate = 0.3,name = 'Dp1')(fc1)\n",
    "    out = Dense(10,name = 'out')(fc1)\n",
    "    \n",
    "    loss = tf.nn.sparse_softmax_cross_entropy_with_logits(logits=out, labels=label)\n",
    "    return loss, out"
   ]
  },
  {
   "cell_type": "markdown",
   "metadata": {},
   "source": [
    "# Training"
   ]
  },
  {
   "cell_type": "code",
   "execution_count": null,
   "metadata": {},
   "outputs": [],
   "source": [
    "# difine two placeholder。This is the old fashion tensorflow method\n",
    "# 训练数字识别器，loss function选择了和POINTNER++一样的方式去构建 \n",
    "tf.reset_default_graph()\n",
    "batchsize = 20\n",
    "range_val = int(60000/batchsize)\n",
    "\n",
    "x_pl = tf.placeholder(tf.float32,shape = [None,28,28,1],name = 'x_pl')\n",
    "label_pl = tf.placeholder(tf.int32,shape = [None],name = 'label_pl')\n",
    "print(x_pl.shape)\n",
    "print(label_pl.shape)\n",
    "\n",
    "loss,output = digitNet(x_pl,label_pl)\n",
    "optimizer = tf.train.AdamOptimizer()\n",
    "train_op = optimizer.minimize(loss)\n",
    "\n",
    "# add summary writers\n",
    "saver = tf.train.Saver()\n",
    "merged = tf.summary.merge_all()\n",
    "\n",
    "\n",
    "for var in tf.trainable_variables():\n",
    "    print(var.name)\n",
    "with tf.Session() as sess:\n",
    "    init = tf.global_variables_initializer()\n",
    "    sess.run(init)\n",
    "    train_writer = tf.summary.FileWriter(LOG_DIR, sess.graph)\n",
    "    for epoch in range(7):\n",
    "        if(epoch % 1 == 0):\n",
    "            print('this is the ',epoch,' epoch')\n",
    "        for i in range(range_val):\n",
    "            batch_index = i\n",
    "            train_i = x_train[batchsize * batch_index:batchsize * (batch_index + 1),:]\n",
    "            label_i = y_train[batchsize * batch_index:batchsize * (batch_index + 1)]\n",
    "            feed = {x_pl:train_i,label_pl:label_i} \n",
    "            my_loss ,_ = sess.run([loss,train_op],feed_dict =feed)\n",
    "            \n",
    "    # save the model\n",
    "    save_path = saver.save(sess,os.path.join(LOG_DIR,'BFdigitNet.ckpt'))\n",
    "    # check the output of the result\n",
    "    test_img = x_test[0].reshape(1,28,28,1)\n",
    "    networkoutput = sess.run(output,feed_dict = {x_pl:test_img})\n",
    "    prediction = np.argmax(networkoutput)\n",
    "    print('networkoutput',networkoutput.shape)\n",
    "    print('prediction = ',prediction)\n",
    "    print('label = ',y_test[0])\n",
    "    #output_img = networkoutput.reshape((28,28))\n",
    "    #output_img = (output_img * 255).astype('uint8')\n",
    "    #plt.imshow(output_img)"
   ]
  },
  {
   "cell_type": "markdown",
   "metadata": {},
   "source": [
    "# Add noise\n"
   ]
  },
  {
   "cell_type": "code",
   "execution_count": 35,
   "metadata": {},
   "outputs": [
    {
     "name": "stdout",
     "output_type": "stream",
     "text": [
      "test_img (1, 28, 28, 1)\n",
      "Noise_img (1, 28, 28, 1)\n"
     ]
    },
    {
     "data": {
      "text/plain": [
       "<matplotlib.image.AxesImage at 0x7f3324171b38>"
      ]
     },
     "execution_count": 35,
     "metadata": {},
     "output_type": "execute_result"
    },
    {
     "data": {
      "image/png": "[encoded data removed]",
      "text/plain": [
       "<Figure size 432x288 with 1 Axes>"
      ]
     },
     "metadata": {
      "needs_background": "light"
     },
     "output_type": "display_data"
    },
    {
     "data": {
      "image/png": "[encoded data removed]",
      "text/plain": [
       "<Figure size 432x288 with 1 Axes>"
      ]
     },
     "metadata": {
      "needs_background": "light"
     },
     "output_type": "display_data"
    }
   ],
   "source": [
    "#print('networkoutput = ',networkoutput)\n",
    "test_index = 3\n",
    "\n",
    "test_img = x_test[test_index].reshape(1,28,28,1)\n",
    "test_label = y_test[test_index]\n",
    "# add Noise\n",
    "Noise_img = test_img + 0.1* np.random.normal(size = (1,28,28,1))\n",
    "Noise_img = np.clip(Noise_img,0,1)\n",
    "print('test_img',test_img.shape)\n",
    "print('Noise_img',Noise_img.shape)\n",
    "plt.figure()\n",
    "plt.imshow(test_img.reshape((28,28)),cmap = 'gray')\n",
    "plt.figure()\n",
    "plt.imshow(Noise_img.reshape((28,28)),cmap = 'gray')\n"
   ]
  },
  {
   "cell_type": "markdown",
   "metadata": {},
   "source": [
    "# with E(deltaP) = argmax (S(test_label))"
   ]
  },
  {
   "cell_type": "code",
   "execution_count": 36,
   "metadata": {},
   "outputs": [
    {
     "name": "stdout",
     "output_type": "stream",
     "text": [
      "INFO:tensorflow:Restoring parameters from /home/chaotang/文档/Try/2D/log/MydigitNet.ckpt\n",
      "Model restored.\n",
      "test_label =  0\n",
      "networkoutput_re 22.248116\n",
      "Origin_prediction 0\n",
      "NoiseOutput 20.33367\n",
      "Noise_prediction 0\n"
     ]
    }
   ],
   "source": [
    "# 上面图过后成功完成训练了，接下来就是保存模型并提取模型，然后用自编码模型完成老师的任务了\n",
    "# restore the model\n",
    "# also remember to reset_everything to defaut!!!\n",
    "tf.reset_default_graph()\n",
    "\n",
    "MODEL_PATH = os.path.join(LOG_DIR,'MydigitNet.ckpt')\n",
    "# Have to redifine Graph\n",
    "x_pl = tf.placeholder(tf.float32,shape = [None,28,28,1],name = 'x_pl')\n",
    "label_pl = tf.placeholder(tf.int32,shape = [None],name = 'label_pl')\n",
    "\n",
    "test_loss,output = digitNet(x_pl,label_pl)\n",
    "\n",
    "saver = tf.train.Saver()\n",
    "\n",
    "with tf.Session() as sess: \n",
    "    saver.restore(sess, MODEL_PATH)\n",
    "    print(\"Model restored.\")\n",
    "    # 设置输出小数点位数\n",
    "    np.set_printoptions(precision=2)\n",
    "    print('test_label = ',test_label)\n",
    "    feed1 = {x_pl:test_img,label_pl:test_label.reshape((1,))}\n",
    "    networkoutput_re = sess.run(output,feed_dict =feed1)\n",
    "    print('networkoutput_re',networkoutput_re[0,test_label])\n",
    "    Origin_prediction = np.argmax(networkoutput_re)\n",
    "    print('Origin_prediction',Origin_prediction)\n",
    "    \n",
    "    feed2 = {x_pl:Noise_img}\n",
    "    NoiseOutput = sess.run(output,feed_dict =feed2)\n",
    "    print('NoiseOutput',NoiseOutput[0,test_label])\n",
    "    Noise_prediction = np.argmax(NoiseOutput)\n",
    "    print('Noise_prediction',Noise_prediction)"
   ]
  },
  {
   "cell_type": "code",
   "execution_count": 37,
   "metadata": {},
   "outputs": [
    {
     "name": "stdout",
     "output_type": "stream",
     "text": [
      "test_label =  0\n",
      "INFO:tensorflow:Restoring parameters from /home/chaotang/文档/Try/2D/log/MydigitNet.ckpt\n",
      "Model restored.\n",
      "done\n"
     ]
    }
   ],
   "source": [
    "# restore the model\n",
    "# also remember to reset_everything to defaut!!!\n",
    "tf.reset_default_graph()\n",
    "\n",
    "MODEL_PATH = os.path.join(LOG_DIR,'MydigitNet.ckpt')\n",
    "# Have to redifine Graph\n",
    "x_pl = tf.placeholder(tf.float32,shape = [None,28,28,1],name = 'x_pl')\n",
    "label_pl = tf.placeholder(tf.int32,shape = [None],name = 'label_pl')\n",
    "\n",
    "loss,output = digitNet(x_pl,label_pl)\n",
    "\n",
    "saver = tf.train.Saver()\n",
    "print('test_label = ',test_label)\n",
    "deltaX = np.zeros((1,28,28,1))\n",
    "with tf.Session() as sess: \n",
    "    saver.restore(sess, MODEL_PATH)\n",
    "    print(\"Model restored.\")\n",
    "    \n",
    "    for h in range(7):\n",
    "        for w in range(7):\n",
    "            example_number = 60000\n",
    "            block_i = 0.5* np.random.normal(size = [example_number,4,4,1])\n",
    "            # the first layer is to maintain the original shape\n",
    "            block_i[0,:,:,:] = 0\n",
    "            Noisy_stack = np.zeros((example_number,28,28,1))\n",
    "            for i in range(example_number):\n",
    "                Noisy_stack[i,:,:,:] = Noise_img\n",
    "            Noisy_stack[:,4*h:4*h+4,4*w:4*w+4,:] = Noisy_stack[:,4*h:4*h+4,4*w:4*w+4,:] + block_i\n",
    "            Noisy_stack = np.clip(Noisy_stack,0,1)\n",
    "            feed = {x_pl:Noisy_stack}\n",
    "            score = sess.run(output,feed_dict = feed)\n",
    "            index = np.argmax(score[:,test_label])\n",
    "\n",
    "            deltaX[:,4*h:4*h+4,4*w:4*w+4,:] = block_i[index,:,:,:]\n",
    "    # 设置输出小数点位数\n",
    "    np.set_printoptions(precision=10)\n",
    "    print('done')\n",
    "    \n",
    "    feed1 = {x_pl:test_img}\n",
    "    output1 = sess.run(output,feed_dict =feed1)\n",
    "    \n",
    "    feed2 = {x_pl:Noise_img}\n",
    "    output2 = sess.run(output,feed_dict =feed2)\n",
    "    \n",
    "    feed3 = {x_pl:Noise_img + deltaX}\n",
    "    output3 = sess.run(output,feed_dict =feed3)"
   ]
  },
  {
   "cell_type": "code",
   "execution_count": 38,
   "metadata": {},
   "outputs": [
    {
     "name": "stdout",
     "output_type": "stream",
     "text": [
      "Original score =  22.248116\n",
      "Noise score =  20.33367\n",
      "New score =  51.79607\n",
      "processed psnr =  8.020842\n",
      "noisy psnr =  22.823664\n"
     ]
    },
    {
     "data": {
      "image/png": "[encoded data removed]",
      "text/plain": [
       "<Figure size 432x288 with 1 Axes>"
      ]
     },
     "metadata": {
      "needs_background": "light"
     },
     "output_type": "display_data"
    },
    {
     "data": {
      "image/png": "[encoded data removed]",
      "text/plain": [
       "<Figure size 432x288 with 1 Axes>"
      ]
     },
     "metadata": {
      "needs_background": "light"
     },
     "output_type": "display_data"
    },
    {
     "data": {
      "image/png": "[encoded data removed]",
      "text/plain": [
       "<Figure size 432x288 with 1 Axes>"
      ]
     },
     "metadata": {
      "needs_background": "light"
     },
     "output_type": "display_data"
    }
   ],
   "source": [
    "# 设置输出小数点位数\n",
    "np.set_printoptions(precision=3)\n",
    "plt.imshow(test_img.reshape((28,28)),cmap='gray')\n",
    "print('Original score = ',output1[0,test_label])\n",
    "\n",
    "plt.figure()\n",
    "plt.imshow(np.clip(Noise_img,0,1).reshape((28,28)),cmap='gray')\n",
    "print('Noise score = ',output2[0,test_label])\n",
    "Processed = np.clip(Noise_img + deltaX,0,1)\n",
    "\n",
    "plt.figure()\n",
    "plt.imshow(np.clip(Noise_img + deltaX,0,1).reshape((28,28)),cmap='gray')\n",
    "print('New score = ',output3[0,test_label])\n",
    "\n",
    "from tensorflow.image import psnr\n",
    "Processed = Processed.reshape((28,28,1))\n",
    "\n",
    "with tf.Session() as sess:\n",
    "    sess.run(tf.global_variables_initializer())\n",
    "    psnr_1 = psnr(test_img[0],Processed,max_val = 1.0)\n",
    "    psnr_2 = psnr(test_img[0],Noise_img[0],max_val = 1.0)\n",
    "    output_1,output_2 = sess.run([psnr_1,psnr_2])\n",
    "    print('processed psnr = ',output_1)\n",
    "    print('noisy psnr = ',output_2)\n"
   ]
  },
  {
   "cell_type": "markdown",
   "metadata": {},
   "source": [
    "# 下面的代码除了恢复模型以外什么都干不了"
   ]
  },
  {
   "cell_type": "markdown",
   "metadata": {},
   "source": [
    "# 下面这个失败了，基本确定没什么吉尔用"
   ]
  },
  {
   "cell_type": "code",
   "execution_count": null,
   "metadata": {},
   "outputs": [],
   "source": [
    "# 上面图过后成功完成训练了，接下来就是保存模型并提取模型，然后用自编码模型完成老师的任务了\n",
    "# restore the model\n",
    "# also remember to reset_everything to defaut!!!\n",
    "tf.reset_default_graph()\n",
    "\n",
    "MODEL_PATH = os.path.join(LOG_DIR,'BFdigitNet.ckpt')\n",
    "# Have to redifine Graph\n",
    "x_pl = tf.placeholder(tf.float32,shape = [None,28,28,1],name = 'x_pl')\n",
    "label_pl = tf.placeholder(tf.int32,shape = [None],name = 'label_pl')\n",
    "\n",
    "test_loss,output = digitNet(x_pl,label_pl)\n",
    "\n",
    "saver = tf.train.Saver()\n",
    "\n",
    "with tf.Session() as sess: \n",
    "    saver.restore(sess, MODEL_PATH)\n",
    "    print(\"Model restored.\")\n",
    "    # 设置输出小数点位数\n",
    "    np.set_printoptions(precision=3)\n",
    "    print('test_label = ',test_label)\n",
    "    test_label_stack = np.full(5,test_label)\n",
    "    print(test_label_stack)\n",
    "    \n",
    "    Noise_img_iter = Noise_img\n",
    "    \n",
    "    deltaX = np.zeros((28,28,1))\n",
    "    for epoch in range(1):  \n",
    "        \n",
    "        deltaX = np.zeros((28,28,1))   \n",
    "        \n",
    "        for height in range(28):\n",
    "            for width in range(28):\n",
    "                Min_index\n",
    "\n",
    "                Noisycopy = Noise_img_iter\n",
    "                Noisystack = np.zeros((5,28,28,1))\n",
    "\n",
    "                # define offset Matrix\n",
    "                minus2 = np.zeros((28,28,1))\n",
    "                minus2[height,width,0] = -0.2\n",
    "\n",
    "                minus1 = np.zeros((28,28,1))\n",
    "                minus1[height,width,0] = -0.1\n",
    "\n",
    "                plus1 = np.zeros((28,28,1))\n",
    "                plus1[height,width,0] = 0.1\n",
    "\n",
    "                plus2 = np.zeros((28,28,1))\n",
    "                plus2[height,width,0] = 0.2\n",
    "\n",
    "                Noisystack[0] = Noisycopy \n",
    "                Noisystack[1] = Noisycopy + minus2\n",
    "                Noisystack[2] = Noisycopy + minus1\n",
    "                Noisystack[3] = Noisycopy + plus1\n",
    "                Noisystack[4] = Noisycopy + plus2\n",
    "\n",
    "                feed = {x_pl:Noisystack,label_pl:test_label_stack}\n",
    "                _,current_output = sess.run([test_loss,output],feed_dict =feed)\n",
    "                Min_index = np.argmax(current_output[:,test_label])\n",
    "                deltaX[height,width] = Min_index          \n",
    "                # print('Min_index',Min_index)#current_output[:,test_label])\n",
    "                deltaX[deltaX == 1] = -0.2\n",
    "                deltaX[deltaX == 2] = -0.1\n",
    "                deltaX[deltaX == 3] = 0.1\n",
    "                deltaX[deltaX == 4] = 0.2\n",
    "\n",
    "        Noise_img_iter = Noise_img_iter + deltaX\n",
    "    print('done')\n",
    "    \n",
    "    feed1 = {x_pl:Noise_img}\n",
    "    output1 = sess.run(output,feed_dict =feed1)\n",
    "    \n",
    "    feed2 = {x_pl:test_img}\n",
    "    output2 = sess.run(output,feed_dict =feed2)"
   ]
  }
 ],
 "metadata": {
  "kernelspec": {
   "display_name": "Python 3",
   "language": "python",
   "name": "python3"
  },
  "language_info": {
   "codemirror_mode": {
    "name": "ipython",
    "version": 3
   },
   "file_extension": ".py",
   "mimetype": "text/x-python",
   "name": "python",
   "nbconvert_exporter": "python",
   "pygments_lexer": "ipython3",
   "version": "3.7.3"
  }
 },
 "nbformat": 4,
 "nbformat_minor": 2
}
